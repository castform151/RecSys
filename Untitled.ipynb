{
 "cells": [
  {
   "cell_type": "markdown",
   "id": "71eeecca",
   "metadata": {},
   "source": [
    "# SVD "
   ]
  },
  {
   "cell_type": "code",
   "execution_count": 3,
   "id": "b80998f4",
   "metadata": {},
   "outputs": [
    {
     "ename": "ValueError",
     "evalue": "The least populated class in y has only 1 member, which is too few. The minimum number of groups for any class cannot be less than 2.",
     "output_type": "error",
     "traceback": [
      "\u001b[0;31m---------------------------------------------------------------------------\u001b[0m",
      "\u001b[0;31mValueError\u001b[0m                                Traceback (most recent call last)",
      "Cell \u001b[0;32mIn[3], line 2\u001b[0m\n\u001b[1;32m      1\u001b[0m \u001b[39mimport\u001b[39;00m \u001b[39mpandas\u001b[39;00m \u001b[39mas\u001b[39;00m \u001b[39mpd\u001b[39;00m \n\u001b[0;32m----> 2\u001b[0m \u001b[39mfrom\u001b[39;00m \u001b[39mmain\u001b[39;00m\u001b[39m.\u001b[39;00m\u001b[39mpy\u001b[39;00m \u001b[39mimport\u001b[39;00m Dataset\n\u001b[1;32m      3\u001b[0m data \u001b[39m=\u001b[39m pd\u001b[39m.\u001b[39mio\u001b[39m.\u001b[39mparsers\u001b[39m.\u001b[39mread_csv(\u001b[39m'\u001b[39m\u001b[39mdataset/ratings.dat\u001b[39m\u001b[39m'\u001b[39m,\n\u001b[1;32m      4\u001b[0m     names\u001b[39m=\u001b[39m[\u001b[39m'\u001b[39m\u001b[39muserid\u001b[39m\u001b[39m'\u001b[39m, \u001b[39m'\u001b[39m\u001b[39mmovieid\u001b[39m\u001b[39m'\u001b[39m, \u001b[39m'\u001b[39m\u001b[39mratings\u001b[39m\u001b[39m'\u001b[39m],encoding\u001b[39m=\u001b[39m\u001b[39m'\u001b[39m\u001b[39mlatin-1\u001b[39m\u001b[39m'\u001b[39m,\n\u001b[1;32m      5\u001b[0m     engine\u001b[39m=\u001b[39m\u001b[39m'\u001b[39m\u001b[39mpython\u001b[39m\u001b[39m'\u001b[39m, delimiter\u001b[39m=\u001b[39m\u001b[39m'\u001b[39m\u001b[39m::\u001b[39m\u001b[39m'\u001b[39m)\n",
      "File \u001b[0;32m/media/sankalp/DATA/CS F469 Info Retrieval/Assignment_3/RecSys/main.py:30\u001b[0m\n\u001b[1;32m     28\u001b[0m     \u001b[39mdef\u001b[39;00m \u001b[39mget_correlation_coef\u001b[39m(x,y):\n\u001b[1;32m     29\u001b[0m         \u001b[39mreturn\u001b[39;00m np\u001b[39m.\u001b[39mcorrcoef(x, y)[\u001b[39m0\u001b[39m, \u001b[39m1\u001b[39m]\n\u001b[0;32m---> 30\u001b[0m data \u001b[39m=\u001b[39m Dataset()\n",
      "File \u001b[0;32m/media/sankalp/DATA/CS F469 Info Retrieval/Assignment_3/RecSys/main.py:9\u001b[0m, in \u001b[0;36mDataset.__init__\u001b[0;34m(self)\u001b[0m\n\u001b[1;32m      7\u001b[0m \u001b[39mdef\u001b[39;00m \u001b[39m__init__\u001b[39m(\u001b[39mself\u001b[39m) \u001b[39m-\u001b[39m\u001b[39m>\u001b[39m \u001b[39mNone\u001b[39;00m:\n\u001b[1;32m      8\u001b[0m     \u001b[39mself\u001b[39m\u001b[39m.\u001b[39mratings \u001b[39m=\u001b[39m pd\u001b[39m.\u001b[39mio\u001b[39m.\u001b[39mparsers\u001b[39m.\u001b[39mread_csv(\u001b[39m'\u001b[39m\u001b[39mdataset/ratings.dat\u001b[39m\u001b[39m'\u001b[39m, names\u001b[39m=\u001b[39m[\u001b[39m'\u001b[39m\u001b[39muserid\u001b[39m\u001b[39m'\u001b[39m, \u001b[39m'\u001b[39m\u001b[39mmovieid\u001b[39m\u001b[39m'\u001b[39m, \u001b[39m'\u001b[39m\u001b[39mratings\u001b[39m\u001b[39m'\u001b[39m],encoding\u001b[39m=\u001b[39m\u001b[39m'\u001b[39m\u001b[39mlatin-1\u001b[39m\u001b[39m'\u001b[39m, engine\u001b[39m=\u001b[39m\u001b[39m'\u001b[39m\u001b[39mpython\u001b[39m\u001b[39m'\u001b[39m, delimiter\u001b[39m=\u001b[39m\u001b[39m'\u001b[39m\u001b[39m::\u001b[39m\u001b[39m'\u001b[39m)\n\u001b[0;32m----> 9\u001b[0m     \u001b[39mself\u001b[39;49m\u001b[39m.\u001b[39;49msplit_ratings()\n",
      "File \u001b[0;32m/media/sankalp/DATA/CS F469 Info Retrieval/Assignment_3/RecSys/main.py:15\u001b[0m, in \u001b[0;36mDataset.split_ratings\u001b[0;34m(self, test_size)\u001b[0m\n\u001b[1;32m     13\u001b[0m \u001b[39mdef\u001b[39;00m \u001b[39msplit_ratings\u001b[39m(\u001b[39mself\u001b[39m, test_size\u001b[39m=\u001b[39m\u001b[39m0.2\u001b[39m):\n\u001b[1;32m     14\u001b[0m     \u001b[39m# self.train_ratings, self.test_ratings = train_test_split(self.ratings, test_size=test_size)\u001b[39;00m\n\u001b[0;32m---> 15\u001b[0m     \u001b[39mself\u001b[39m\u001b[39m.\u001b[39mtrain_ratings, \u001b[39mself\u001b[39m\u001b[39m.\u001b[39mtest_ratings \u001b[39m=\u001b[39m train_test_split(\u001b[39mself\u001b[39;49m\u001b[39m.\u001b[39;49mratings, test_size\u001b[39m=\u001b[39;49mtest_size, stratify\u001b[39m=\u001b[39;49m\u001b[39mself\u001b[39;49m\u001b[39m.\u001b[39;49mratings[\u001b[39m'\u001b[39;49m\u001b[39muserid\u001b[39;49m\u001b[39m'\u001b[39;49m])\n\u001b[1;32m     16\u001b[0m     pd\u001b[39m.\u001b[39msave_csv(\u001b[39m'\u001b[39m\u001b[39mdataset/train_ratings.csv\u001b[39m\u001b[39m'\u001b[39m, \u001b[39mself\u001b[39m\u001b[39m.\u001b[39mtrain_ratings)\n\u001b[1;32m     17\u001b[0m     pd\u001b[39m.\u001b[39msave_csv(\u001b[39m'\u001b[39m\u001b[39mdataset/test_ratings.csv\u001b[39m\u001b[39m'\u001b[39m, \u001b[39mself\u001b[39m\u001b[39m.\u001b[39mtest_ratings)\n",
      "File \u001b[0;32m~/.virtualenvs/ir/lib/python3.8/site-packages/sklearn/model_selection/_split.py:2583\u001b[0m, in \u001b[0;36mtrain_test_split\u001b[0;34m(test_size, train_size, random_state, shuffle, stratify, *arrays)\u001b[0m\n\u001b[1;32m   2579\u001b[0m         CVClass \u001b[39m=\u001b[39m ShuffleSplit\n\u001b[1;32m   2581\u001b[0m     cv \u001b[39m=\u001b[39m CVClass(test_size\u001b[39m=\u001b[39mn_test, train_size\u001b[39m=\u001b[39mn_train, random_state\u001b[39m=\u001b[39mrandom_state)\n\u001b[0;32m-> 2583\u001b[0m     train, test \u001b[39m=\u001b[39m \u001b[39mnext\u001b[39;49m(cv\u001b[39m.\u001b[39;49msplit(X\u001b[39m=\u001b[39;49marrays[\u001b[39m0\u001b[39;49m], y\u001b[39m=\u001b[39;49mstratify))\n\u001b[1;32m   2585\u001b[0m \u001b[39mreturn\u001b[39;00m \u001b[39mlist\u001b[39m(\n\u001b[1;32m   2586\u001b[0m     chain\u001b[39m.\u001b[39mfrom_iterable(\n\u001b[1;32m   2587\u001b[0m         (_safe_indexing(a, train), _safe_indexing(a, test)) \u001b[39mfor\u001b[39;00m a \u001b[39min\u001b[39;00m arrays\n\u001b[1;32m   2588\u001b[0m     )\n\u001b[1;32m   2589\u001b[0m )\n",
      "File \u001b[0;32m~/.virtualenvs/ir/lib/python3.8/site-packages/sklearn/model_selection/_split.py:1689\u001b[0m, in \u001b[0;36mBaseShuffleSplit.split\u001b[0;34m(self, X, y, groups)\u001b[0m\n\u001b[1;32m   1659\u001b[0m \u001b[39m\u001b[39m\u001b[39m\"\"\"Generate indices to split data into training and test set.\u001b[39;00m\n\u001b[1;32m   1660\u001b[0m \n\u001b[1;32m   1661\u001b[0m \u001b[39mParameters\u001b[39;00m\n\u001b[0;32m   (...)\u001b[0m\n\u001b[1;32m   1686\u001b[0m \u001b[39mto an integer.\u001b[39;00m\n\u001b[1;32m   1687\u001b[0m \u001b[39m\"\"\"\u001b[39;00m\n\u001b[1;32m   1688\u001b[0m X, y, groups \u001b[39m=\u001b[39m indexable(X, y, groups)\n\u001b[0;32m-> 1689\u001b[0m \u001b[39mfor\u001b[39;00m train, test \u001b[39min\u001b[39;00m \u001b[39mself\u001b[39m\u001b[39m.\u001b[39m_iter_indices(X, y, groups):\n\u001b[1;32m   1690\u001b[0m     \u001b[39myield\u001b[39;00m train, test\n",
      "File \u001b[0;32m~/.virtualenvs/ir/lib/python3.8/site-packages/sklearn/model_selection/_split.py:2078\u001b[0m, in \u001b[0;36mStratifiedShuffleSplit._iter_indices\u001b[0;34m(self, X, y, groups)\u001b[0m\n\u001b[1;32m   2076\u001b[0m class_counts \u001b[39m=\u001b[39m np\u001b[39m.\u001b[39mbincount(y_indices)\n\u001b[1;32m   2077\u001b[0m \u001b[39mif\u001b[39;00m np\u001b[39m.\u001b[39mmin(class_counts) \u001b[39m<\u001b[39m \u001b[39m2\u001b[39m:\n\u001b[0;32m-> 2078\u001b[0m     \u001b[39mraise\u001b[39;00m \u001b[39mValueError\u001b[39;00m(\n\u001b[1;32m   2079\u001b[0m         \u001b[39m\"\u001b[39m\u001b[39mThe least populated class in y has only 1\u001b[39m\u001b[39m\"\u001b[39m\n\u001b[1;32m   2080\u001b[0m         \u001b[39m\"\u001b[39m\u001b[39m member, which is too few. The minimum\u001b[39m\u001b[39m\"\u001b[39m\n\u001b[1;32m   2081\u001b[0m         \u001b[39m\"\u001b[39m\u001b[39m number of groups for any class cannot\u001b[39m\u001b[39m\"\u001b[39m\n\u001b[1;32m   2082\u001b[0m         \u001b[39m\"\u001b[39m\u001b[39m be less than 2.\u001b[39m\u001b[39m\"\u001b[39m\n\u001b[1;32m   2083\u001b[0m     )\n\u001b[1;32m   2085\u001b[0m \u001b[39mif\u001b[39;00m n_train \u001b[39m<\u001b[39m n_classes:\n\u001b[1;32m   2086\u001b[0m     \u001b[39mraise\u001b[39;00m \u001b[39mValueError\u001b[39;00m(\n\u001b[1;32m   2087\u001b[0m         \u001b[39m\"\u001b[39m\u001b[39mThe train_size = \u001b[39m\u001b[39m%d\u001b[39;00m\u001b[39m should be greater or \u001b[39m\u001b[39m\"\u001b[39m\n\u001b[1;32m   2088\u001b[0m         \u001b[39m\"\u001b[39m\u001b[39mequal to the number of classes = \u001b[39m\u001b[39m%d\u001b[39;00m\u001b[39m\"\u001b[39m \u001b[39m%\u001b[39m (n_train, n_classes)\n\u001b[1;32m   2089\u001b[0m     )\n",
      "\u001b[0;31mValueError\u001b[0m: The least populated class in y has only 1 member, which is too few. The minimum number of groups for any class cannot be less than 2."
     ]
    }
   ],
   "source": [
    "import pandas as pd \n",
    "from main.py import Dataset\n",
    "data = pd.io.parsers.read_csv('dataset/ratings.dat',\n",
    "    names=['userid', 'movieid', 'ratings'],encoding='latin-1',\n",
    "    engine='python', delimiter='::')"
   ]
  },
  {
   "cell_type": "code",
   "execution_count": 2,
   "id": "a757df6a",
   "metadata": {},
   "outputs": [
    {
     "data": {
      "text/html": [
       "<div>\n",
       "<style scoped>\n",
       "    .dataframe tbody tr th:only-of-type {\n",
       "        vertical-align: middle;\n",
       "    }\n",
       "\n",
       "    .dataframe tbody tr th {\n",
       "        vertical-align: top;\n",
       "    }\n",
       "\n",
       "    .dataframe thead th {\n",
       "        text-align: right;\n",
       "    }\n",
       "</style>\n",
       "<table border=\"1\" class=\"dataframe\">\n",
       "  <thead>\n",
       "    <tr style=\"text-align: right;\">\n",
       "      <th></th>\n",
       "      <th>Data</th>\n",
       "    </tr>\n",
       "  </thead>\n",
       "  <tbody>\n",
       "    <tr>\n",
       "      <th>0</th>\n",
       "      <td>1:1193:5:978300760</td>\n",
       "    </tr>\n",
       "    <tr>\n",
       "      <th>1</th>\n",
       "      <td>1:661:3:978302109</td>\n",
       "    </tr>\n",
       "    <tr>\n",
       "      <th>2</th>\n",
       "      <td>1:914:3:978301968</td>\n",
       "    </tr>\n",
       "    <tr>\n",
       "      <th>3</th>\n",
       "      <td>1:3408:4:978300275</td>\n",
       "    </tr>\n",
       "    <tr>\n",
       "      <th>4</th>\n",
       "      <td>1:2355:5:978824291</td>\n",
       "    </tr>\n",
       "    <tr>\n",
       "      <th>...</th>\n",
       "      <td>...</td>\n",
       "    </tr>\n",
       "    <tr>\n",
       "      <th>1000204</th>\n",
       "      <td>6040:1091:1:956716541</td>\n",
       "    </tr>\n",
       "    <tr>\n",
       "      <th>1000205</th>\n",
       "      <td>6040:1094:5:956704887</td>\n",
       "    </tr>\n",
       "    <tr>\n",
       "      <th>1000206</th>\n",
       "      <td>6040:562:5:956704746</td>\n",
       "    </tr>\n",
       "    <tr>\n",
       "      <th>1000207</th>\n",
       "      <td>6040:1096:4:956715648</td>\n",
       "    </tr>\n",
       "    <tr>\n",
       "      <th>1000208</th>\n",
       "      <td>6040:1097:4:956715569</td>\n",
       "    </tr>\n",
       "  </tbody>\n",
       "</table>\n",
       "<p>1000209 rows × 1 columns</p>\n",
       "</div>"
      ],
      "text/plain": [
       "                          Data\n",
       "0           1:1193:5:978300760\n",
       "1            1:661:3:978302109\n",
       "2            1:914:3:978301968\n",
       "3           1:3408:4:978300275\n",
       "4           1:2355:5:978824291\n",
       "...                        ...\n",
       "1000204  6040:1091:1:956716541\n",
       "1000205  6040:1094:5:956704887\n",
       "1000206   6040:562:5:956704746\n",
       "1000207  6040:1096:4:956715648\n",
       "1000208  6040:1097:4:956715569\n",
       "\n",
       "[1000209 rows x 1 columns]"
      ]
     },
     "execution_count": 2,
     "metadata": {},
     "output_type": "execute_result"
    }
   ],
   "source": [
    "data"
   ]
  },
  {
   "cell_type": "code",
   "execution_count": null,
   "id": "8bdeeaea",
   "metadata": {},
   "outputs": [],
   "source": [
    "movie_data = pd.io.parsers.read_csv('movies.dat',\n",
    "    names=['movie_id', 'title', 'genre'],encoding='latin-1',\n",
    "    engine='python', delimiter='::')"
   ]
  },
  {
   "cell_type": "code",
   "execution_count": 8,
   "id": "cb736e8b",
   "metadata": {},
   "outputs": [
    {
     "data": {
      "text/html": [
       "<div>\n",
       "<style scoped>\n",
       "    .dataframe tbody tr th:only-of-type {\n",
       "        vertical-align: middle;\n",
       "    }\n",
       "\n",
       "    .dataframe tbody tr th {\n",
       "        vertical-align: top;\n",
       "    }\n",
       "\n",
       "    .dataframe thead th {\n",
       "        text-align: right;\n",
       "    }\n",
       "</style>\n",
       "<table border=\"1\" class=\"dataframe\">\n",
       "  <thead>\n",
       "    <tr style=\"text-align: right;\">\n",
       "      <th></th>\n",
       "      <th>user_id</th>\n",
       "      <th>movie_id</th>\n",
       "      <th>rating</th>\n",
       "      <th>time</th>\n",
       "    </tr>\n",
       "  </thead>\n",
       "  <tbody>\n",
       "    <tr>\n",
       "      <th>0</th>\n",
       "      <td>1</td>\n",
       "      <td>1193</td>\n",
       "      <td>5</td>\n",
       "      <td>978300760</td>\n",
       "    </tr>\n",
       "    <tr>\n",
       "      <th>1</th>\n",
       "      <td>1</td>\n",
       "      <td>661</td>\n",
       "      <td>3</td>\n",
       "      <td>978302109</td>\n",
       "    </tr>\n",
       "    <tr>\n",
       "      <th>2</th>\n",
       "      <td>1</td>\n",
       "      <td>914</td>\n",
       "      <td>3</td>\n",
       "      <td>978301968</td>\n",
       "    </tr>\n",
       "    <tr>\n",
       "      <th>3</th>\n",
       "      <td>1</td>\n",
       "      <td>3408</td>\n",
       "      <td>4</td>\n",
       "      <td>978300275</td>\n",
       "    </tr>\n",
       "    <tr>\n",
       "      <th>4</th>\n",
       "      <td>1</td>\n",
       "      <td>2355</td>\n",
       "      <td>5</td>\n",
       "      <td>978824291</td>\n",
       "    </tr>\n",
       "    <tr>\n",
       "      <th>...</th>\n",
       "      <td>...</td>\n",
       "      <td>...</td>\n",
       "      <td>...</td>\n",
       "      <td>...</td>\n",
       "    </tr>\n",
       "    <tr>\n",
       "      <th>1000204</th>\n",
       "      <td>6040</td>\n",
       "      <td>1091</td>\n",
       "      <td>1</td>\n",
       "      <td>956716541</td>\n",
       "    </tr>\n",
       "    <tr>\n",
       "      <th>1000205</th>\n",
       "      <td>6040</td>\n",
       "      <td>1094</td>\n",
       "      <td>5</td>\n",
       "      <td>956704887</td>\n",
       "    </tr>\n",
       "    <tr>\n",
       "      <th>1000206</th>\n",
       "      <td>6040</td>\n",
       "      <td>562</td>\n",
       "      <td>5</td>\n",
       "      <td>956704746</td>\n",
       "    </tr>\n",
       "    <tr>\n",
       "      <th>1000207</th>\n",
       "      <td>6040</td>\n",
       "      <td>1096</td>\n",
       "      <td>4</td>\n",
       "      <td>956715648</td>\n",
       "    </tr>\n",
       "    <tr>\n",
       "      <th>1000208</th>\n",
       "      <td>6040</td>\n",
       "      <td>1097</td>\n",
       "      <td>4</td>\n",
       "      <td>956715569</td>\n",
       "    </tr>\n",
       "  </tbody>\n",
       "</table>\n",
       "<p>1000209 rows × 4 columns</p>\n",
       "</div>"
      ],
      "text/plain": [
       "         user_id  movie_id  rating       time\n",
       "0              1      1193       5  978300760\n",
       "1              1       661       3  978302109\n",
       "2              1       914       3  978301968\n",
       "3              1      3408       4  978300275\n",
       "4              1      2355       5  978824291\n",
       "...          ...       ...     ...        ...\n",
       "1000204     6040      1091       1  956716541\n",
       "1000205     6040      1094       5  956704887\n",
       "1000206     6040       562       5  956704746\n",
       "1000207     6040      1096       4  956715648\n",
       "1000208     6040      1097       4  956715569\n",
       "\n",
       "[1000209 rows x 4 columns]"
      ]
     },
     "execution_count": 8,
     "metadata": {},
     "output_type": "execute_result"
    }
   ],
   "source": [
    "data"
   ]
  },
  {
   "cell_type": "code",
   "execution_count": 9,
   "id": "28d853e2",
   "metadata": {},
   "outputs": [],
   "source": [
    "import numpy as np\n",
    "ratings_mat = np.ndarray(\n",
    "    shape=(np.max(data.movie_id.values), np.max(data.user_id.values)),\n",
    "    dtype=np.uint8)\n",
    "ratings_mat[data.movie_id.values-1, data.user_id.values-1] = data.rating.values"
   ]
  },
  {
   "cell_type": "code",
   "execution_count": 10,
   "id": "f87d3915",
   "metadata": {},
   "outputs": [
    {
     "data": {
      "text/plain": [
       "array([[5, 0, 0, ..., 0, 0, 3],\n",
       "       [0, 0, 0, ..., 0, 0, 0],\n",
       "       [0, 0, 0, ..., 0, 0, 0],\n",
       "       ...,\n",
       "       [0, 0, 0, ..., 0, 0, 0],\n",
       "       [0, 0, 0, ..., 0, 0, 0],\n",
       "       [0, 0, 0, ..., 0, 0, 0]], dtype=uint8)"
      ]
     },
     "execution_count": 10,
     "metadata": {},
     "output_type": "execute_result"
    }
   ],
   "source": [
    "ratings_mat"
   ]
  },
  {
   "cell_type": "code",
   "execution_count": 12,
   "id": "1160d459",
   "metadata": {},
   "outputs": [],
   "source": [
    "normalised_mat = ratings_mat - np.asarray([(np.mean(ratings_mat, 1))]).T"
   ]
  },
  {
   "cell_type": "code",
   "execution_count": 13,
   "id": "9c0da8d1",
   "metadata": {},
   "outputs": [
    {
     "data": {
      "text/plain": [
       "array([[ 3.57400662, -1.42599338, -1.42599338, ..., -1.42599338,\n",
       "        -1.42599338,  1.57400662],\n",
       "       [-0.37152318, -0.37152318, -0.37152318, ..., -0.37152318,\n",
       "        -0.37152318, -0.37152318],\n",
       "       [-0.23874172, -0.23874172, -0.23874172, ..., -0.23874172,\n",
       "        -0.23874172, -0.23874172],\n",
       "       ...,\n",
       "       [-0.03278146, -0.03278146, -0.03278146, ..., -0.03278146,\n",
       "        -0.03278146, -0.03278146],\n",
       "       [-0.02582781, -0.02582781, -0.02582781, ..., -0.02582781,\n",
       "        -0.02582781, -0.02582781],\n",
       "       [-0.24288079, -0.24288079, -0.24288079, ..., -0.24288079,\n",
       "        -0.24288079, -0.24288079]])"
      ]
     },
     "execution_count": 13,
     "metadata": {},
     "output_type": "execute_result"
    }
   ],
   "source": [
    "normalised_mat"
   ]
  },
  {
   "cell_type": "code",
   "execution_count": 14,
   "id": "4bb73df4",
   "metadata": {},
   "outputs": [],
   "source": [
    "A = normalised_mat.T / np.sqrt(ratings_mat.shape[0] - 1)\n",
    "U, S, V = np.linalg.svd(A)"
   ]
  },
  {
   "cell_type": "code",
   "execution_count": null,
   "id": "a9873783",
   "metadata": {},
   "outputs": [],
   "source": []
  },
  {
   "cell_type": "code",
   "execution_count": 15,
   "id": "5466fb59",
   "metadata": {},
   "outputs": [],
   "source": [
    "def top_cosine_similarity(data, movie_id, top_n=10):\n",
    "    index = movie_id - 1 # Movie id starts from 1 in the dataset\n",
    "    movie_row = data[index, :]\n",
    "    magnitude = np.sqrt(np.einsum('ij, ij -> i', data, data))\n",
    "    similarity = np.dot(movie_row, data.T) / (magnitude[index] * magnitude)\n",
    "    sort_indexes = np.argsort(-similarity)\n",
    "    return sort_indexes[:top_n]"
   ]
  },
  {
   "cell_type": "code",
   "execution_count": 16,
   "id": "8191d9ff",
   "metadata": {},
   "outputs": [],
   "source": [
    "def print_similar_movies(movie_data, movie_id, top_indexes):\n",
    "    print('Recommendations for {0}: \\n'.format(\n",
    "    movie_data[movie_data.movie_id == movie_id].title.values[0]))\n",
    "    for id in top_indexes + 1:\n",
    "        print(movie_data[movie_data.movie_id == id].title.values[0])"
   ]
  },
  {
   "cell_type": "code",
   "execution_count": 30,
   "id": "08857bb1",
   "metadata": {},
   "outputs": [
    {
     "name": "stdout",
     "output_type": "stream",
     "text": [
      "Recommendations for X-Men (2000): \n",
      "\n",
      "X-Men (2000)\n",
      "Moonstruck (1987)\n",
      "Erin Brockovich (2000)\n",
      "Starman (1984)\n",
      "English Patient, The (1996)\n",
      "Three Kings (1999)\n",
      "And Now for Something Completely Different (1971)\n",
      "Sixth Sense, The (1999)\n",
      "Edward Scissorhands (1990)\n",
      "West Side Story (1961)\n",
      "Hot Shots! Part Deux (1993)\n",
      "Thomas Crown Affair, The (1999)\n",
      "Sneakers (1992)\n",
      "Thin Red Line, The (1998)\n",
      "Great Escape, The (1963)\n",
      "Sting, The (1973)\n",
      "Children of a Lesser God (1986)\n",
      "Fisher King, The (1991)\n",
      "Men in Black (1997)\n",
      "Space Cowboys (2000)\n"
     ]
    }
   ],
   "source": [
    "k = 50\n",
    "movie_id = 3793 # (getting an id from movies.dat)\n",
    "top_n = 20\n",
    "sliced = V.T # representative data\n",
    "indexes = top_cosine_similarity(sliced, movie_id, top_n)\n",
    "# Print the top N similar movies.\n",
    "\n",
    "print_similar_movies(movie_data, movie_id, indexes)"
   ]
  },
  {
   "cell_type": "markdown",
   "id": "e5d3c412",
   "metadata": {},
   "source": [
    "# SVD with 90% retained energy"
   ]
  },
  {
   "cell_type": "code",
   "execution_count": 18,
   "id": "d60b26aa",
   "metadata": {},
   "outputs": [
    {
     "data": {
      "text/plain": [
       "array([2.06617808e+01, 1.06804930e+01, 9.14055972e+00, ...,\n",
       "       1.71271486e-15, 1.45774792e-15, 8.47072761e-16])"
      ]
     },
     "execution_count": 18,
     "metadata": {},
     "output_type": "execute_result"
    }
   ],
   "source": [
    "S"
   ]
  },
  {
   "cell_type": "code",
   "execution_count": 19,
   "id": "d048cf46",
   "metadata": {},
   "outputs": [
    {
     "data": {
      "text/plain": [
       "(3952,)"
      ]
     },
     "execution_count": 19,
     "metadata": {},
     "output_type": "execute_result"
    }
   ],
   "source": [
    "S.shape"
   ]
  },
  {
   "cell_type": "code",
   "execution_count": 20,
   "id": "ffdaa185",
   "metadata": {},
   "outputs": [
    {
     "data": {
      "text/plain": [
       "(6040, 6040)"
      ]
     },
     "execution_count": 20,
     "metadata": {},
     "output_type": "execute_result"
    }
   ],
   "source": [
    "U.shape"
   ]
  },
  {
   "cell_type": "code",
   "execution_count": 21,
   "id": "7f5e35a5",
   "metadata": {},
   "outputs": [
    {
     "data": {
      "text/plain": [
       "(3952, 3952)"
      ]
     },
     "execution_count": 21,
     "metadata": {},
     "output_type": "execute_result"
    }
   ],
   "source": [
    "V.shape"
   ]
  },
  {
   "cell_type": "code",
   "execution_count": 22,
   "id": "ad6318fc",
   "metadata": {},
   "outputs": [
    {
     "data": {
      "text/plain": [
       "(6040, 3952)"
      ]
     },
     "execution_count": 22,
     "metadata": {},
     "output_type": "execute_result"
    }
   ],
   "source": [
    "A.shape"
   ]
  },
  {
   "cell_type": "code",
   "execution_count": 23,
   "id": "5a335002",
   "metadata": {},
   "outputs": [],
   "source": [
    "temp=np.square(S).sum()*0.9"
   ]
  },
  {
   "cell_type": "code",
   "execution_count": 24,
   "id": "274df638",
   "metadata": {},
   "outputs": [],
   "source": [
    "sum=0\n",
    "for i in range(len(S)):\n",
    "    sum+=S[i]*S[i]\n",
    "    if sum>temp:\n",
    "        break\n",
    "k=i"
   ]
  },
  {
   "cell_type": "code",
   "execution_count": 25,
   "id": "76b7b70e",
   "metadata": {},
   "outputs": [],
   "source": [
    "Uk = U[:, :k]\n",
    "Vk = V[:k, :].T\n",
    "Sk = np.diag(S[:k])"
   ]
  },
  {
   "cell_type": "code",
   "execution_count": 26,
   "id": "c204f04c",
   "metadata": {},
   "outputs": [],
   "source": [
    "A_approx = np.dot(Uk, np.dot(Sk, Vk.T))"
   ]
  },
  {
   "cell_type": "code",
   "execution_count": 27,
   "id": "a530302e",
   "metadata": {},
   "outputs": [],
   "source": [
    "U_r, S_r, V_r = np.linalg.svd(A_approx)"
   ]
  },
  {
   "cell_type": "code",
   "execution_count": 31,
   "id": "973c5ee7",
   "metadata": {},
   "outputs": [
    {
     "name": "stdout",
     "output_type": "stream",
     "text": [
      "Recommendations for X-Men (2000): \n",
      "\n",
      "X-Men (2000)\n",
      "Untouchables, The (1987)\n",
      "Taxi Driver (1976)\n",
      "Breakfast Club, The (1985)\n",
      "Amadeus (1984)\n",
      "In the Line of Fire (1993)\n",
      "Last of the Mohicans, The (1992)\n",
      "Perfect Storm, The (2000)\n",
      "Monty Python and the Holy Grail (1974)\n",
      "Christmas Story, A (1983)\n",
      "Scream (1996)\n",
      "Mission: Impossible 2 (2000)\n",
      "Alien³ (1992)\n",
      "Maverick (1994)\n",
      "League of Their Own, A (1992)\n",
      "Cinema Paradiso (1988)\n",
      "Frequency (2000)\n",
      "Total Recall (1990)\n",
      "Edward Scissorhands (1990)\n",
      "Blade (1998)\n"
     ]
    }
   ],
   "source": [
    "movie_id = 3793 # (getting an id from movies.dat)\n",
    "top_n = 20\n",
    "sliced = V_r.T # representative data\n",
    "indexes = top_cosine_similarity(sliced, movie_id, top_n)\n",
    "# Print the top N similar movies.\n",
    "\n",
    "print_similar_movies(movie_data, movie_id, indexes)"
   ]
  },
  {
   "cell_type": "code",
   "execution_count": 2,
   "id": "06acd05b",
   "metadata": {},
   "outputs": [
    {
     "ename": "NameError",
     "evalue": "name 'data' is not defined",
     "output_type": "error",
     "traceback": [
      "\u001b[0;31m---------------------------------------------------------------------------\u001b[0m",
      "\u001b[0;31mNameError\u001b[0m                                 Traceback (most recent call last)",
      "Cell \u001b[0;32mIn[2], line 1\u001b[0m\n\u001b[0;32m----> 1\u001b[0m data[\u001b[39m\"\u001b[39m\u001b[39muserid\u001b[39m\u001b[39m\"\u001b[39m]\u001b[39m.\u001b[39mvalue_counts()\n",
      "\u001b[0;31mNameError\u001b[0m: name 'data' is not defined"
     ]
    }
   ],
   "source": [
    "data[\"userid\"].value_counts()"
   ]
  },
  {
   "cell_type": "code",
   "execution_count": null,
   "id": "d983739b",
   "metadata": {},
   "outputs": [],
   "source": []
  }
 ],
 "metadata": {
  "kernelspec": {
   "display_name": "Python 3 (ipykernel)",
   "language": "python",
   "name": "python3"
  },
  "language_info": {
   "codemirror_mode": {
    "name": "ipython",
    "version": 3
   },
   "file_extension": ".py",
   "mimetype": "text/x-python",
   "name": "python",
   "nbconvert_exporter": "python",
   "pygments_lexer": "ipython3",
   "version": "3.8.10"
  }
 },
 "nbformat": 4,
 "nbformat_minor": 5
}
