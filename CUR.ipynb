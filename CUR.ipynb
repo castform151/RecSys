{
 "cells": [
  {
   "cell_type": "code",
   "execution_count": null,
   "metadata": {},
   "outputs": [],
   "source": [
    "import pandas as pd \n",
    "\n",
    "data = pd.io.parsers.read_csv('dataset/ratings.dat',\n",
    "    names=['userid', 'movieid', 'ratings', 'timestamp'],encoding='latin-1',\n",
    "    engine='python', delimiter='::')\n"
   ]
  },
  {
   "cell_type": "code",
   "execution_count": null,
   "metadata": {},
   "outputs": [],
   "source": []
  }
 ],
 "metadata": {
  "language_info": {
   "name": "python"
  },
  "orig_nbformat": 4
 },
 "nbformat": 4,
 "nbformat_minor": 2
}
